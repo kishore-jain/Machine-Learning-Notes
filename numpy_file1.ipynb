{
 "cells": [
  {
   "cell_type": "code",
   "execution_count": 1,
   "id": "7b4159cd",
   "metadata": {},
   "outputs": [],
   "source": [
    "# numpy = array processing package\n",
    "\n",
    "# benefits\n",
    "#----------\n",
    "# multidimensional array support/fast\n",
    "# supports mathematical operations/computation\n",
    "# mainly supports fourier transform,random number generation,random process,algebric oprations\n",
    "# provides tools for c c++ fortran code\n",
    "# ndarray - is a single datatype(homogenous)\n",
    "import numpy as np"
   ]
  },
  {
   "cell_type": "code",
   "execution_count": 2,
   "id": "5eead08b",
   "metadata": {},
   "outputs": [
    {
     "data": {
      "text/plain": [
       "[200, 300, 400, 500, 10, 20, 30, 40]"
      ]
     },
     "execution_count": 2,
     "metadata": {},
     "output_type": "execute_result"
    }
   ],
   "source": [
    "a = [200,300,400,500]\n",
    "b = [10,20,30,40]\n",
    "a+b # perfomrs only concatenation not addition of each element in list"
   ]
  },
  {
   "cell_type": "code",
   "execution_count": 3,
   "id": "8025e66c",
   "metadata": {},
   "outputs": [
    {
     "ename": "TypeError",
     "evalue": "unsupported operand type(s) for /: 'list' and 'list'",
     "output_type": "error",
     "traceback": [
      "\u001b[1;31m---------------------------------------------------------------------------\u001b[0m",
      "\u001b[1;31mTypeError\u001b[0m                                 Traceback (most recent call last)",
      "Cell \u001b[1;32mIn[3], line 1\u001b[0m\n\u001b[1;32m----> 1\u001b[0m \u001b[43ma\u001b[49m\u001b[38;5;241;43m/\u001b[39;49m\u001b[43mb\u001b[49m\n",
      "\u001b[1;31mTypeError\u001b[0m: unsupported operand type(s) for /: 'list' and 'list'"
     ]
    }
   ],
   "source": [
    "a/b"
   ]
  },
  {
   "cell_type": "code",
   "execution_count": null,
   "id": "a16c5e88",
   "metadata": {},
   "outputs": [],
   "source": [
    "#CREATING NUMPY ARRAY"
   ]
  },
  {
   "cell_type": "code",
   "execution_count": 5,
   "id": "0049a207",
   "metadata": {},
   "outputs": [
    {
     "name": "stdout",
     "output_type": "stream",
     "text": [
      "[200 300 400 500]\n",
      "[10 20 30 40]\n",
      "-------------\n",
      "[200, 300, 400, 500]\n",
      "[10, 20, 30, 40]\n",
      "<class 'numpy.ndarray'>\n",
      "<class 'numpy.ndarray'>\n"
     ]
    }
   ],
   "source": [
    "np_a = np.array(a)\n",
    "np_b = np.array(b)\n",
    "print((np_a))\n",
    "print((np_b))\n",
    "print('-------------')\n",
    "print(a)\n",
    "print(b)\n",
    "print(type(np_a))\n",
    "print(type(np_b))\n"
   ]
  },
  {
   "cell_type": "code",
   "execution_count": 6,
   "id": "44a8f592",
   "metadata": {},
   "outputs": [
    {
     "data": {
      "text/plain": [
       "array([210, 320, 430, 540])"
      ]
     },
     "execution_count": 6,
     "metadata": {},
     "output_type": "execute_result"
    }
   ],
   "source": [
    "np_a + np_b # performs addition operation on each elent in numpy array"
   ]
  },
  {
   "cell_type": "code",
   "execution_count": null,
   "id": "05663fd8-9c80-4e1a-9803-d653aac823c8",
   "metadata": {},
   "outputs": [],
   "source": []
  },
  {
   "cell_type": "code",
   "execution_count": null,
   "id": "91aa7ee6-38bb-4004-bccb-dd69edc54dd1",
   "metadata": {},
   "outputs": [],
   "source": [
    "np_a - np_b"
   ]
  },
  {
   "cell_type": "code",
   "execution_count": null,
   "id": "b65f085a",
   "metadata": {},
   "outputs": [],
   "source": [
    "np_a / np_b"
   ]
  },
  {
   "cell_type": "code",
   "execution_count": null,
   "id": "2887a5a7",
   "metadata": {},
   "outputs": [],
   "source": [
    "np_a * np_b"
   ]
  },
  {
   "cell_type": "code",
   "execution_count": 7,
   "id": "287ec964",
   "metadata": {},
   "outputs": [
    {
     "data": {
      "text/plain": [
       "array([3, 5, 7, 9])"
      ]
     },
     "execution_count": 7,
     "metadata": {},
     "output_type": "execute_result"
    }
   ],
   "source": [
    "#types of array\n",
    "# 1d\n",
    "# 2d\n",
    "# 3d\n",
    "\n",
    "# one dimensional array\n",
    "\n",
    "one = np.array([3,5,7,9,])\n",
    "one"
   ]
  },
  {
   "cell_type": "code",
   "execution_count": 8,
   "id": "d817f7ab",
   "metadata": {},
   "outputs": [
    {
     "name": "stdout",
     "output_type": "stream",
     "text": [
      "[[ 1  2  3  4  5]\n",
      " [11 22 33 44 55]]\n"
     ]
    }
   ],
   "source": [
    "# 2d\n",
    "two = np.array([[1,2,3,4,5],[11,22,33,44,55]])\n",
    "print(two)\n",
    "#print(\"number of rows and columns :\",two.shape)\n",
    "#print(\"dimension of array:\",two.ndim)\n",
    "#print(two.size)\n",
    "#print(two.dtype)"
   ]
  },
  {
   "cell_type": "code",
   "execution_count": 14,
   "id": "18fa83e9",
   "metadata": {},
   "outputs": [
    {
     "name": "stdout",
     "output_type": "stream",
     "text": [
      "[[[ 1  2  3]\n",
      "  [ 4  5  6]\n",
      "  [ 7  8  9]\n",
      "  [51 52 53]]\n",
      "\n",
      " [[10 11 12]\n",
      "  [13 14 15]\n",
      "  [16 17 18]\n",
      "  [61 62 63]]\n",
      "\n",
      " [[19 20 21]\n",
      "  [22 23 24]\n",
      "  [25 26 27]\n",
      "  [71 72 73]]]\n"
     ]
    }
   ],
   "source": [
    "# 3d\n",
    "three = np.array([[[1,2,3],[4,5,6],[7,8,9],[51,52,53]],\n",
    "                  [[10,11,12],[13,14,15],[16,17,18],[61,62,63]],\n",
    "                 [[19,20,21],[22,23,24],[25,26,27],[71,72,73]]])\n",
    "print(three)\n"
   ]
  },
  {
   "cell_type": "code",
   "execution_count": null,
   "id": "77d3d54b",
   "metadata": {},
   "outputs": [],
   "source": [
    "# numpy attributes\n",
    "#-----------------\n",
    "# ndim - returns dimension/rank of array\n",
    "# shape - size of each dimensions(rows,columns) of array\n",
    "# size - total no of elements in array\n",
    "# dtype - returns exact datatype"
   ]
  },
  {
   "cell_type": "code",
   "execution_count": 13,
   "id": "416b3997",
   "metadata": {},
   "outputs": [
    {
     "name": "stdout",
     "output_type": "stream",
     "text": [
      "[['skoda' 'Honda' 'Ford' 'Suzuki' 'kia']\n",
      " ['fabia' 'Accord' 'ecosport' 'Baleno' 'carnival']]\n"
     ]
    }
   ],
   "source": [
    "car = np.array([['skoda','Honda','Ford','Suzuki','kia'],\n",
    "                ['fabia','Accord','ecosport','Baleno','carnival']])\n",
    "car\n",
    "print(car)\n"
   ]
  },
  {
   "cell_type": "code",
   "execution_count": 15,
   "id": "7746a175-dfc4-4352-a416-015a6350bffa",
   "metadata": {},
   "outputs": [
    {
     "data": {
      "text/plain": [
       "2"
      ]
     },
     "execution_count": 15,
     "metadata": {},
     "output_type": "execute_result"
    }
   ],
   "source": [
    "car.ndim  #returns dimension\n"
   ]
  },
  {
   "cell_type": "code",
   "execution_count": 16,
   "id": "2c4f76ed-0f37-4344-a86e-e1d52e536e4e",
   "metadata": {},
   "outputs": [
    {
     "data": {
      "text/plain": [
       "(2, 5)"
      ]
     },
     "execution_count": 16,
     "metadata": {},
     "output_type": "execute_result"
    }
   ],
   "source": [
    "car.shape # size of each dimension(row/columns)"
   ]
  },
  {
   "cell_type": "code",
   "execution_count": 17,
   "id": "7f82950e",
   "metadata": {},
   "outputs": [
    {
     "data": {
      "text/plain": [
       "10"
      ]
     },
     "execution_count": 17,
     "metadata": {},
     "output_type": "execute_result"
    }
   ],
   "source": [
    "\n",
    "car.size  #total elements"
   ]
  },
  {
   "cell_type": "code",
   "execution_count": 18,
   "id": "668a8cb7",
   "metadata": {},
   "outputs": [
    {
     "data": {
      "text/plain": [
       "dtype('<U8')"
      ]
     },
     "execution_count": 18,
     "metadata": {},
     "output_type": "execute_result"
    }
   ],
   "source": [
    "car.dtype  #data type"
   ]
  },
  {
   "cell_type": "code",
   "execution_count": null,
   "id": "a2df04f9",
   "metadata": {},
   "outputs": [],
   "source": [
    "#basic operations"
   ]
  },
  {
   "cell_type": "code",
   "execution_count": 24,
   "id": "1cacb014",
   "metadata": {},
   "outputs": [],
   "source": [
    "import pandas as pd\n",
    "import numpy as np \n",
    "import matplotlib.pyplot as plt"
   ]
  },
  {
   "cell_type": "code",
   "execution_count": 22,
   "id": "cfd15a59",
   "metadata": {},
   "outputs": [
    {
     "data": {
      "text/plain": [
       "array([11, 12,  8, 11, 10,  5,  9])"
      ]
     },
     "execution_count": 22,
     "metadata": {},
     "output_type": "execute_result"
    }
   ],
   "source": [
    "day1 = np.array([4,7,5,2,8,1,3])\n",
    "day2 = np.array([7,5,3,9,2,4,6])\n",
    "\n",
    "total = day1 + day2\n",
    "total"
   ]
  },
  {
   "cell_type": "code",
   "execution_count": 23,
   "id": "88da3316",
   "metadata": {},
   "outputs": [
    {
     "name": "stdout",
     "output_type": "stream",
     "text": [
      "[-3  2  2 -7  6 -3 -3]\n"
     ]
    }
   ],
   "source": [
    "print(day1-day2)"
   ]
  },
  {
   "cell_type": "code",
   "execution_count": 25,
   "id": "fb74df9f",
   "metadata": {},
   "outputs": [
    {
     "name": "stdout",
     "output_type": "stream",
     "text": [
      "[28 35 15 18 16  4 18]\n",
      "[0.57142857 1.4        1.66666667 0.22222222 4.         0.25\n",
      " 0.5       ]\n",
      "[False  True  True False  True False False]\n",
      "[ True False False  True False  True  True]\n",
      "[False  True  True False  True False False]\n",
      "[False False False False False False False]\n"
     ]
    }
   ],
   "source": [
    "print(day1*day2)\n",
    "print(day1/day2)\n",
    "print(day1>day2)\n",
    "print(day1<day2)\n",
    "print(day1>=day2)\n",
    "print(day1==day2)"
   ]
  },
  {
   "cell_type": "code",
   "execution_count": 27,
   "id": "37de5774",
   "metadata": {},
   "outputs": [
    {
     "data": {
      "text/plain": [
       "array([[ 4,  6,  3,  8],\n",
       "       [ 5,  6,  8, 10]])"
      ]
     },
     "execution_count": 27,
     "metadata": {},
     "output_type": "execute_result"
    }
   ],
   "source": [
    "# person1- day1 - distance - 4\n",
    "# person1- day2 - distance - 5\n",
    "# person2- day1 - distance - 6\n",
    "# person2- day2 - distance - 6\n",
    "# person3- day1 - distance - 3\n",
    "# person3- day2 - distance - 8\n",
    "# person4- day1 - distance - 8\n",
    "# person4- day1 - distance - 10\n",
    "distance = np.array([[4,6,3,8],[5,6,8,10]])\n",
    "distance"
   ]
  },
  {
   "cell_type": "code",
   "execution_count": 28,
   "id": "7c9185bc",
   "metadata": {},
   "outputs": [
    {
     "data": {
      "text/plain": [
       "array([4, 6, 3, 8])"
      ]
     },
     "execution_count": 28,
     "metadata": {},
     "output_type": "execute_result"
    }
   ],
   "source": [
    "first_day = distance[0]\n",
    "first_day"
   ]
  },
  {
   "cell_type": "code",
   "execution_count": 13,
   "id": "7f1b9514",
   "metadata": {},
   "outputs": [
    {
     "data": {
      "text/plain": [
       "array([ 5,  6,  8, 10])"
      ]
     },
     "execution_count": 13,
     "metadata": {},
     "output_type": "execute_result"
    }
   ],
   "source": [
    "second_day = distance[1]\n",
    "second_day"
   ]
  },
  {
   "cell_type": "code",
   "execution_count": 14,
   "id": "cd8d3f1d",
   "metadata": {},
   "outputs": [
    {
     "data": {
      "text/plain": [
       "6"
      ]
     },
     "execution_count": 14,
     "metadata": {},
     "output_type": "execute_result"
    }
   ],
   "source": [
    "secondperson_day2 = distance[1][1]\n",
    "secondperson_day2"
   ]
  },
  {
   "cell_type": "code",
   "execution_count": 31,
   "id": "2bcddd05",
   "metadata": {},
   "outputs": [
    {
     "data": {
      "text/plain": [
       "array([6, 6])"
      ]
     },
     "execution_count": 31,
     "metadata": {},
     "output_type": "execute_result"
    }
   ],
   "source": [
    "secondperson_day_total = distance[:,1] # here : represents all rows of givin  specified number 1\n",
    "secondperson_day_total  "
   ]
  },
  {
   "cell_type": "code",
   "execution_count": 33,
   "id": "61ee4ad3",
   "metadata": {},
   "outputs": [
    {
     "data": {
      "text/plain": [
       "array([[ 6,  3,  8],\n",
       "       [ 6,  8, 10]])"
      ]
     },
     "execution_count": 33,
     "metadata": {},
     "output_type": "execute_result"
    }
   ],
   "source": [
    "p2p3_total = distance[:,1:4]\n",
    "p2p3_total"
   ]
  },
  {
   "cell_type": "code",
   "execution_count": 34,
   "id": "231c7dad",
   "metadata": {},
   "outputs": [
    {
     "name": "stdout",
     "output_type": "stream",
     "text": [
      "[4 6 3 8]\n",
      "[ 5  6  8 10]\n"
     ]
    }
   ],
   "source": [
    "for i in distance:\n",
    "    print(i)"
   ]
  },
  {
   "cell_type": "code",
   "execution_count": 18,
   "id": "a64fa26d",
   "metadata": {},
   "outputs": [
    {
     "data": {
      "text/plain": [
       "array([[False, False, False,  True],\n",
       "       [False, False,  True,  True]])"
      ]
     },
     "execution_count": 18,
     "metadata": {},
     "output_type": "execute_result"
    }
   ],
   "source": [
    "good_walk = distance>=8 # condition\n",
    "good_walk"
   ]
  },
  {
   "cell_type": "code",
   "execution_count": 19,
   "id": "d1ddf4e2",
   "metadata": {},
   "outputs": [
    {
     "name": "stdout",
     "output_type": "stream",
     "text": [
      "[[ 4  6  3  8]\n",
      " [ 5  6  8 10]]\n"
     ]
    }
   ],
   "source": [
    "print(distance)"
   ]
  },
  {
   "cell_type": "code",
   "execution_count": 20,
   "id": "25136091",
   "metadata": {},
   "outputs": [
    {
     "name": "stdout",
     "output_type": "stream",
     "text": [
      "[ 8  8 10]\n"
     ]
    }
   ],
   "source": [
    "print(distance[good_walk]) # constraint (implied conditions with restrcitions) \n",
    "# dimensionality reduced ouput"
   ]
  },
  {
   "cell_type": "code",
   "execution_count": 21,
   "id": "d19012f1",
   "metadata": {},
   "outputs": [
    {
     "name": "stdout",
     "output_type": "stream",
     "text": [
      "['suzuki' 'toyotakirloskar' 'tata' 'benz' 'ford']\n",
      "['suzuki' 'toyotakirloskar' 'tata' 'benz' 'ford']\n",
      "after change made in duplicate\n",
      "shallow: ['suzuki' 'toyotakirloskar' 'tata' 'kia' 'ford']\n",
      "original: ['suzuki' 'toyotakirloskar' 'tata' 'kia' 'ford']\n"
     ]
    }
   ],
   "source": [
    "car = np.array(['suzuki','toyotakirloskar','tata','benz','ford'])\n",
    "car_dup = car\n",
    "\n",
    "# shallow copy - change made in duplicate will affect the original structure\n",
    "\n",
    "print(car_dup)\n",
    "\n",
    "print(car)\n",
    "\n",
    "car_dup[3] = 'kia'\n",
    "print('after change made in duplicate')\n",
    "print('shallow:',car_dup)\n",
    "print('original:',car)"
   ]
  },
  {
   "cell_type": "code",
   "execution_count": 22,
   "id": "221c53ff",
   "metadata": {},
   "outputs": [
    {
     "data": {
      "text/plain": [
       "array(['suzuki', 'toyotakirloskar', 'tata', 'hindustan motor', 'ford'],\n",
       "      dtype='<U15')"
      ]
     },
     "execution_count": 22,
     "metadata": {},
     "output_type": "execute_result"
    }
   ],
   "source": [
    "car_dup[3]='hindustan motors india'\n",
    "car_dup"
   ]
  },
  {
   "cell_type": "code",
   "execution_count": 23,
   "id": "827d8b7c",
   "metadata": {},
   "outputs": [
    {
     "data": {
      "text/plain": [
       "array(['suzuki', 'toyotakirloskar', 'tata', 'hindustan motor', 'ford'],\n",
       "      dtype='<U15')"
      ]
     },
     "execution_count": 23,
     "metadata": {},
     "output_type": "execute_result"
    }
   ],
   "source": [
    "car"
   ]
  },
  {
   "cell_type": "code",
   "execution_count": 24,
   "id": "4fc72483",
   "metadata": {},
   "outputs": [],
   "source": [
    "cview = car.view() # view is similar with shallow copy"
   ]
  },
  {
   "cell_type": "code",
   "execution_count": 25,
   "id": "6fadbfae",
   "metadata": {},
   "outputs": [
    {
     "data": {
      "text/plain": [
       "array(['suzuki', 'toyotakirloskar', 'tata', 'hindustan motor', 'ford'],\n",
       "      dtype='<U15')"
      ]
     },
     "execution_count": 25,
     "metadata": {},
     "output_type": "execute_result"
    }
   ],
   "source": [
    "cview"
   ]
  },
  {
   "cell_type": "code",
   "execution_count": 26,
   "id": "1c220d6c",
   "metadata": {},
   "outputs": [
    {
     "data": {
      "text/plain": [
       "array(['suzuki', 'toyotakirloskar', 'tata', 'hindustan motor', 'ford'],\n",
       "      dtype='<U15')"
      ]
     },
     "execution_count": 26,
     "metadata": {},
     "output_type": "execute_result"
    }
   ],
   "source": [
    "car"
   ]
  },
  {
   "cell_type": "code",
   "execution_count": 27,
   "id": "a51c234d",
   "metadata": {},
   "outputs": [],
   "source": [
    "cview[2] = 'mercedes'"
   ]
  },
  {
   "cell_type": "code",
   "execution_count": 28,
   "id": "678191ea",
   "metadata": {},
   "outputs": [
    {
     "data": {
      "text/plain": [
       "array(['suzuki', 'toyotakirloskar', 'mercedes', 'hindustan motor', 'ford'],\n",
       "      dtype='<U15')"
      ]
     },
     "execution_count": 28,
     "metadata": {},
     "output_type": "execute_result"
    }
   ],
   "source": [
    "#shallow copy \n",
    "cview"
   ]
  },
  {
   "cell_type": "code",
   "execution_count": 29,
   "id": "c573ea20",
   "metadata": {},
   "outputs": [
    {
     "data": {
      "text/plain": [
       "array(['suzuki', 'toyotakirloskar', 'mercedes', 'hindustan motor', 'ford'],\n",
       "      dtype='<U15')"
      ]
     },
     "execution_count": 29,
     "metadata": {},
     "output_type": "execute_result"
    }
   ],
   "source": [
    "car"
   ]
  },
  {
   "cell_type": "code",
   "execution_count": 30,
   "id": "fb3416ad",
   "metadata": {},
   "outputs": [
    {
     "data": {
      "text/plain": [
       "array(['suzuki', 'toyotakirloskar', 'mercedes', 'hindustan motor', 'ford'],\n",
       "      dtype='<U15')"
      ]
     },
     "execution_count": 30,
     "metadata": {},
     "output_type": "execute_result"
    }
   ],
   "source": [
    "#deep copy - change made in duplicate wont affect original\n",
    "deep = car.copy()\n",
    "deep"
   ]
  },
  {
   "cell_type": "code",
   "execution_count": 31,
   "id": "1e898d81",
   "metadata": {},
   "outputs": [
    {
     "data": {
      "text/plain": [
       "array(['suzuki', 'toyotakirloskar', 'mercedes', 'vk', 'ford'],\n",
       "      dtype='<U15')"
      ]
     },
     "execution_count": 31,
     "metadata": {},
     "output_type": "execute_result"
    }
   ],
   "source": [
    "deep[3]='vk'\n",
    "deep"
   ]
  },
  {
   "cell_type": "code",
   "execution_count": 32,
   "id": "613eb2c0",
   "metadata": {},
   "outputs": [
    {
     "data": {
      "text/plain": [
       "array(['suzuki', 'toyotakirloskar', 'mercedes', 'hindustan motor', 'ford'],\n",
       "      dtype='<U15')"
      ]
     },
     "execution_count": 32,
     "metadata": {},
     "output_type": "execute_result"
    }
   ],
   "source": [
    "car"
   ]
  },
  {
   "cell_type": "code",
   "execution_count": 33,
   "id": "c2c59828",
   "metadata": {},
   "outputs": [
    {
     "data": {
      "text/plain": [
       "array([12., 13., 15., 17.])"
      ]
     },
     "execution_count": 33,
     "metadata": {},
     "output_type": "execute_result"
    }
   ],
   "source": [
    "# math module and random module both are in numpy.\n",
    "#universal functions\n",
    "sqrt = np.sqrt([144,169,225,289])\n",
    "sqrt\n"
   ]
  },
  {
   "cell_type": "code",
   "execution_count": 34,
   "id": "7e70494d",
   "metadata": {},
   "outputs": [
    {
     "data": {
      "text/plain": [
       "1.0"
      ]
     },
     "execution_count": 34,
     "metadata": {},
     "output_type": "execute_result"
    }
   ],
   "source": [
    "np.cos(0)"
   ]
  },
  {
   "cell_type": "code",
   "execution_count": 35,
   "id": "33cb1d5c",
   "metadata": {},
   "outputs": [
    {
     "data": {
      "text/plain": [
       "array([ 5., 90.,  8., -3., -9.])"
      ]
     },
     "execution_count": 35,
     "metadata": {},
     "output_type": "execute_result"
    }
   ],
   "source": [
    "np.ceil([4.2,89.6,7.8,-3.4,-9.4])\n",
    "# upper range"
   ]
  },
  {
   "cell_type": "code",
   "execution_count": 36,
   "id": "8aceff39",
   "metadata": {},
   "outputs": [
    {
     "data": {
      "text/plain": [
       "array([  4.,  89.,   7.,  -4., -10.])"
      ]
     },
     "execution_count": 36,
     "metadata": {},
     "output_type": "execute_result"
    }
   ],
   "source": [
    "np.floor([4.5,89.6,7.8,-3.4,-9.4])\n",
    "# lower range"
   ]
  },
  {
   "cell_type": "code",
   "execution_count": 37,
   "id": "75324b5f",
   "metadata": {},
   "outputs": [
    {
     "data": {
      "text/plain": [
       "array([ 2.71828183,  7.3890561 , 20.08553692, 54.59815003])"
      ]
     },
     "execution_count": 37,
     "metadata": {},
     "output_type": "execute_result"
    }
   ],
   "source": [
    "np.exp([1,2,3,4])"
   ]
  },
  {
   "cell_type": "code",
   "execution_count": 38,
   "id": "45ac465b",
   "metadata": {},
   "outputs": [
    {
     "data": {
      "text/plain": [
       "array([[ 4,  6,  3,  8],\n",
       "       [ 5,  6,  8, 10]])"
      ]
     },
     "execution_count": 38,
     "metadata": {},
     "output_type": "execute_result"
    }
   ],
   "source": [
    "distance"
   ]
  },
  {
   "cell_type": "code",
   "execution_count": 39,
   "id": "62dd5eb3",
   "metadata": {},
   "outputs": [
    {
     "name": "stdout",
     "output_type": "stream",
     "text": [
      "[ 4  6  3  8  5  6  8 10]\n",
      "[[ 4  6  3  8]\n",
      " [ 5  6  8 10]]\n"
     ]
    }
   ],
   "source": [
    "# shape manipulation\n",
    "# deep copy\n",
    "\n",
    "print(distance.ravel())  # converts and combine any array dimensions into one dimension\n",
    "print(distance)\n",
    "\n",
    "#dist = distance.ravel() # naming convention\n",
    "#print(dist)"
   ]
  },
  {
   "cell_type": "code",
   "execution_count": 40,
   "id": "cb58a169",
   "metadata": {},
   "outputs": [
    {
     "name": "stdout",
     "output_type": "stream",
     "text": [
      "[[ 4  6  3  8  5  6  8 10]]\n",
      "[[ 4  6  3  8]\n",
      " [ 5  6  8 10]]\n"
     ]
    }
   ],
   "source": [
    "# deep copy\n",
    "# reshape never chenge the dimension\n",
    "print(distance.reshape(1,8))\n",
    "print(distance)"
   ]
  },
  {
   "cell_type": "code",
   "execution_count": 41,
   "id": "fb7e3968",
   "metadata": {},
   "outputs": [
    {
     "data": {
      "text/plain": [
       "array([[ 4,  6],\n",
       "       [ 3,  8],\n",
       "       [ 5,  6],\n",
       "       [ 8, 10]])"
      ]
     },
     "execution_count": 41,
     "metadata": {},
     "output_type": "execute_result"
    }
   ],
   "source": [
    "distance.reshape(4,2)"
   ]
  },
  {
   "cell_type": "code",
   "execution_count": 42,
   "id": "a15d8c3c",
   "metadata": {},
   "outputs": [
    {
     "data": {
      "text/plain": [
       "array([[ 4],\n",
       "       [ 6],\n",
       "       [ 3],\n",
       "       [ 8],\n",
       "       [ 5],\n",
       "       [ 6],\n",
       "       [ 8],\n",
       "       [10]])"
      ]
     },
     "execution_count": 42,
     "metadata": {},
     "output_type": "execute_result"
    }
   ],
   "source": [
    "distance.reshape(8,1)"
   ]
  },
  {
   "cell_type": "code",
   "execution_count": 43,
   "id": "d9706ef3",
   "metadata": {},
   "outputs": [
    {
     "data": {
      "text/plain": [
       "array([[ 4,  6,  3,  8],\n",
       "       [ 5,  6,  8, 10]])"
      ]
     },
     "execution_count": 43,
     "metadata": {},
     "output_type": "execute_result"
    }
   ],
   "source": [
    "distance"
   ]
  },
  {
   "cell_type": "code",
   "execution_count": 44,
   "id": "419ba885",
   "metadata": {},
   "outputs": [
    {
     "name": "stdout",
     "output_type": "stream",
     "text": [
      "[[ 4  6  3  8]\n",
      " [ 5  6  8 10]]\n"
     ]
    }
   ],
   "source": [
    "\n",
    "distance = distance.reshape(2,4)\n",
    "print(distance)"
   ]
  },
  {
   "cell_type": "code",
   "execution_count": 45,
   "id": "c05da49e",
   "metadata": {},
   "outputs": [
    {
     "name": "stdout",
     "output_type": "stream",
     "text": [
      "[[ 4  6  3  8]\n",
      " [ 5  6  8 10]]\n"
     ]
    }
   ],
   "source": [
    "#print(distance.reshape(4,2))\n",
    "#deep - never change and dont affect the original structure\n",
    "print(distance)"
   ]
  },
  {
   "cell_type": "code",
   "execution_count": 46,
   "id": "2b3f30a5",
   "metadata": {},
   "outputs": [
    {
     "data": {
      "text/plain": [
       "array([[ 4,  6],\n",
       "       [ 3,  8],\n",
       "       [ 5,  6],\n",
       "       [ 8, 10]])"
      ]
     },
     "execution_count": 46,
     "metadata": {},
     "output_type": "execute_result"
    }
   ],
   "source": [
    "# shallo copy\n",
    "distance.resize(4,2) #shallow - affects original structure # resize will change structure\n",
    "distance"
   ]
  },
  {
   "cell_type": "code",
   "execution_count": 47,
   "id": "9d7f52d7",
   "metadata": {},
   "outputs": [
    {
     "data": {
      "text/plain": [
       "array([[ 4,  6],\n",
       "       [ 3,  8],\n",
       "       [ 5,  6],\n",
       "       [ 8, 10]])"
      ]
     },
     "execution_count": 47,
     "metadata": {},
     "output_type": "execute_result"
    }
   ],
   "source": [
    "distance"
   ]
  },
  {
   "cell_type": "code",
   "execution_count": 48,
   "id": "32674787",
   "metadata": {},
   "outputs": [
    {
     "data": {
      "text/plain": [
       "[array([[4],\n",
       "        [3],\n",
       "        [5],\n",
       "        [8]]),\n",
       " array([[ 6],\n",
       "        [ 8],\n",
       "        [ 6],\n",
       "        [10]])]"
      ]
     },
     "execution_count": 48,
     "metadata": {},
     "output_type": "execute_result"
    }
   ],
   "source": [
    "# horizontal splitting\n",
    "# split= eg- phone\n",
    "np.hsplit(distance,2)"
   ]
  },
  {
   "cell_type": "code",
   "execution_count": 49,
   "id": "4afc5abb",
   "metadata": {},
   "outputs": [
    {
     "data": {
      "text/plain": [
       "array([[ 4,  6,  3,  8],\n",
       "       [ 5,  6,  8, 10]])"
      ]
     },
     "execution_count": 49,
     "metadata": {},
     "output_type": "execute_result"
    }
   ],
   "source": [
    "# resize - permanently changes the shape of an array\n",
    "\n",
    "distance.resize(2,4)\n",
    "distance\n",
    "#car"
   ]
  },
  {
   "cell_type": "code",
   "execution_count": 52,
   "id": "bc9c65f6",
   "metadata": {},
   "outputs": [
    {
     "data": {
      "text/plain": [
       "array([[ 4,  6],\n",
       "       [ 3,  8],\n",
       "       [ 5,  6],\n",
       "       [ 8, 10]])"
      ]
     },
     "execution_count": 52,
     "metadata": {},
     "output_type": "execute_result"
    }
   ],
   "source": [
    "distance.resize(4,2)\n",
    "distance"
   ]
  },
  {
   "cell_type": "code",
   "execution_count": 53,
   "id": "9de26c08",
   "metadata": {},
   "outputs": [
    {
     "data": {
      "text/plain": [
       "[array([[4],\n",
       "        [3],\n",
       "        [5],\n",
       "        [8]]),\n",
       " array([[ 6],\n",
       "        [ 8],\n",
       "        [ 6],\n",
       "        [10]])]"
      ]
     },
     "execution_count": 53,
     "metadata": {},
     "output_type": "execute_result"
    }
   ],
   "source": [
    "np.hsplit(distance,2)"
   ]
  },
  {
   "cell_type": "code",
   "execution_count": null,
   "id": "3d85e7f7",
   "metadata": {},
   "outputs": [],
   "source": []
  },
  {
   "cell_type": "code",
   "execution_count": null,
   "id": "9d98b4ce",
   "metadata": {},
   "outputs": [],
   "source": []
  },
  {
   "cell_type": "code",
   "execution_count": 58,
   "id": "1f40a6b9",
   "metadata": {},
   "outputs": [],
   "source": [
    "day1=np.array([['kishore','jain','hari']])"
   ]
  },
  {
   "cell_type": "code",
   "execution_count": 59,
   "id": "9707a7f2",
   "metadata": {},
   "outputs": [],
   "source": [
    "day2=np.array([['gk','gj','ph']])"
   ]
  },
  {
   "cell_type": "code",
   "execution_count": null,
   "id": "5135ed7c-64b5-47d2-8323-b058df215a12",
   "metadata": {},
   "outputs": [],
   "source": [
    "# stack= last in first out\n",
    "# queue=first in last out\n",
    "# horizantal stack= hstack"
   ]
  },
  {
   "cell_type": "code",
   "execution_count": 60,
   "id": "470ce1ce",
   "metadata": {},
   "outputs": [
    {
     "data": {
      "text/plain": [
       "array([['kishore', 'jain', 'hari', 'gk', 'gj', 'ph']], dtype='<U7')"
      ]
     },
     "execution_count": 60,
     "metadata": {},
     "output_type": "execute_result"
    }
   ],
   "source": [
    "np.hstack([day1,day2])"
   ]
  },
  {
   "cell_type": "code",
   "execution_count": 61,
   "id": "78c662b3",
   "metadata": {},
   "outputs": [
    {
     "data": {
      "text/plain": [
       "array([['kishore', 'jain', 'hari']], dtype='<U7')"
      ]
     },
     "execution_count": 61,
     "metadata": {},
     "output_type": "execute_result"
    }
   ],
   "source": [
    "day1"
   ]
  },
  {
   "cell_type": "code",
   "execution_count": 76,
   "id": "699ddc21-82ea-4f29-9025-d064ebbb220c",
   "metadata": {},
   "outputs": [
    {
     "ename": "UFuncTypeError",
     "evalue": "ufunc 'multiply' did not contain a loop with signature matching types (dtype('<U7'), dtype('<U2')) -> None",
     "output_type": "error",
     "traceback": [
      "\u001b[1;31m---------------------------------------------------------------------------\u001b[0m",
      "\u001b[1;31mUFuncTypeError\u001b[0m                            Traceback (most recent call last)",
      "Cell \u001b[1;32mIn[76], line 1\u001b[0m\n\u001b[1;32m----> 1\u001b[0m \u001b[43mday1\u001b[49m\u001b[38;5;241;43m*\u001b[39;49m\u001b[43mday2\u001b[49m\u001b[38;5;66;03m# number elemate shouled be equal\u001b[39;00m\n",
      "\u001b[1;31mUFuncTypeError\u001b[0m: ufunc 'multiply' did not contain a loop with signature matching types (dtype('<U7'), dtype('<U2')) -> None"
     ]
    }
   ],
   "source": [
    "day1*day2# number elemate shouled be equal"
   ]
  },
  {
   "cell_type": "code",
   "execution_count": 64,
   "id": "4663ffa7",
   "metadata": {},
   "outputs": [
    {
     "data": {
      "text/plain": [
       "array([['kishore', 'jain', 'hari']], dtype='<U7')"
      ]
     },
     "execution_count": 64,
     "metadata": {},
     "output_type": "execute_result"
    }
   ],
   "source": [
    "day1"
   ]
  },
  {
   "cell_type": "code",
   "execution_count": 65,
   "id": "121362b3",
   "metadata": {},
   "outputs": [
    {
     "data": {
      "text/plain": [
       "array([[ 4,  6],\n",
       "       [ 3,  8],\n",
       "       [ 5,  6],\n",
       "       [ 8, 10]])"
      ]
     },
     "execution_count": 65,
     "metadata": {},
     "output_type": "execute_result"
    }
   ],
   "source": [
    "distance\n"
   ]
  },
  {
   "cell_type": "code",
   "execution_count": 66,
   "id": "f3cf4c60",
   "metadata": {},
   "outputs": [
    {
     "data": {
      "text/plain": [
       "array([[ 4,  3,  5,  8],\n",
       "       [ 6,  8,  6, 10]])"
      ]
     },
     "execution_count": 66,
     "metadata": {},
     "output_type": "execute_result"
    }
   ],
   "source": [
    "# algebric equations\n",
    "\n",
    "distance.transpose()"
   ]
  },
  {
   "cell_type": "code",
   "execution_count": 67,
   "id": "3371b09a",
   "metadata": {},
   "outputs": [
    {
     "data": {
      "text/plain": [
       "array([[ 1.5, -2. ],\n",
       "       [-0.5,  1. ]])"
      ]
     },
     "execution_count": 67,
     "metadata": {},
     "output_type": "execute_result"
    }
   ],
   "source": [
    "np.linalg.inv(np.array([[2,4],[1,3]]))"
   ]
  },
  {
   "cell_type": "code",
   "execution_count": 68,
   "id": "a6d70345",
   "metadata": {},
   "outputs": [
    {
     "data": {
      "text/plain": [
       "73"
      ]
     },
     "execution_count": 68,
     "metadata": {},
     "output_type": "execute_result"
    }
   ],
   "source": [
    "# Trace = diagonal addtion 20+53{ notes: fouce on more diagonal value (0,0),(1,1),(2,2),ect}\n",
    "np.trace(np.array([[20,4],[1,53]]))\n"
   ]
  },
  {
   "cell_type": "code",
   "execution_count": 69,
   "id": "9d8c2a1c",
   "metadata": {},
   "outputs": [
    {
     "name": "stdout",
     "output_type": "stream",
     "text": [
      "[0 1 2 3 4 5 6 7 8 9]\n",
      "<class 'numpy.ndarray'>\n"
     ]
    }
   ],
   "source": [
    "# addtional functions for creating arrays\n",
    "#-----------------------------------------\n",
    "# array creation using evenly spaced\n",
    "# array - array range\n",
    "a = np.arange(10)\n",
    "\n",
    "print(a)\n",
    "print(type(a))\n",
    "#print('numpy arange value:',a)\n",
    "#print(type(a))\n",
    "#for i in range(10):\n",
    "#    print(i,)\n"
   ]
  },
  {
   "cell_type": "code",
   "execution_count": 71,
   "id": "9e583270",
   "metadata": {},
   "outputs": [
    {
     "data": {
      "text/plain": [
       "array([10, 15, 20, 25, 30, 35, 40, 45, 50])"
      ]
     },
     "execution_count": 71,
     "metadata": {},
     "output_type": "execute_result"
    }
   ],
   "source": [
    "b = np.arange(10,51,5)\n",
    "b"
   ]
  },
  {
   "cell_type": "code",
   "execution_count": 72,
   "id": "361d4cfb",
   "metadata": {},
   "outputs": [
    {
     "data": {
      "text/plain": [
       "array([0. , 0.2, 0.4, 0.6, 0.8, 1. ])"
      ]
     },
     "execution_count": 72,
     "metadata": {},
     "output_type": "execute_result"
    }
   ],
   "source": [
    "# array creation using number points\n",
    "c = np.linspace(0,1,6) # linspace means linear spacing in between given values\n",
    "c\n",
    "# stoping values is also considered in linear spacing"
   ]
  },
  {
   "cell_type": "code",
   "execution_count": 70,
   "id": "252461a3",
   "metadata": {},
   "outputs": [
    {
     "data": {
      "text/plain": [
       "array([0.        , 0.16666667, 0.33333333, 0.5       , 0.66666667,\n",
       "       0.83333333])"
      ]
     },
     "execution_count": 70,
     "metadata": {},
     "output_type": "execute_result"
    }
   ],
   "source": [
    "d = np.linspace(0,1,6,endpoint=False)\n",
    "d\n"
   ]
  },
  {
   "cell_type": "code",
   "execution_count": 73,
   "id": "ec2298d8",
   "metadata": {},
   "outputs": [
    {
     "data": {
      "text/plain": [
       "array([[1., 1., 1., 1.],\n",
       "       [1., 1., 1., 1.],\n",
       "       [1., 1., 1., 1.],\n",
       "       [1., 1., 1., 1.]])"
      ]
     },
     "execution_count": 73,
     "metadata": {},
     "output_type": "execute_result"
    }
   ],
   "source": [
    "# common array functions\n",
    "#------------------------\n",
    "# zeros\n",
    "# ones\n",
    "# eye\n",
    "# diag\n",
    "# ones - always show 2d array\n",
    "e = np.ones((4,4))\n",
    "e"
   ]
  },
  {
   "cell_type": "code",
   "execution_count": 74,
   "id": "c25441df",
   "metadata": {},
   "outputs": [
    {
     "data": {
      "text/plain": [
       "array([[0., 0., 0., 0.],\n",
       "       [0., 0., 0., 0.],\n",
       "       [0., 0., 0., 0.],\n",
       "       [0., 0., 0., 0.]])"
      ]
     },
     "execution_count": 74,
     "metadata": {},
     "output_type": "execute_result"
    }
   ],
   "source": [
    "f = np.zeros((4,4))\n",
    "f"
   ]
  },
  {
   "cell_type": "code",
   "execution_count": null,
   "id": "cdd5969c",
   "metadata": {},
   "outputs": [],
   "source": [
    "g = np.eye(4)\n",
    "g"
   ]
  },
  {
   "cell_type": "code",
   "execution_count": 75,
   "id": "9d263f12",
   "metadata": {},
   "outputs": [
    {
     "name": "stdout",
     "output_type": "stream",
     "text": [
      "[[ 10   0   0   0   0   0   0   0   0   0]\n",
      " [  0  20   0   0   0   0   0   0   0   0]\n",
      " [  0   0  30   0   0   0   0   0   0   0]\n",
      " [  0   0   0  40   0   0   0   0   0   0]\n",
      " [  0   0   0   0  50   0   0   0   0   0]\n",
      " [  0   0   0   0   0  60   0   0   0   0]\n",
      " [  0   0   0   0   0   0  70   0   0   0]\n",
      " [  0   0   0   0   0   0   0  80   0   0]\n",
      " [  0   0   0   0   0   0   0   0  90   0]\n",
      " [  0   0   0   0   0   0   0   0   0 100]]\n"
     ]
    }
   ],
   "source": [
    "h = np.diag(np.arange(10,101,10))\n",
    "print(h)\n",
    "\n"
   ]
  },
  {
   "cell_type": "code",
   "execution_count": 83,
   "id": "a03f9ac3",
   "metadata": {},
   "outputs": [
    {
     "data": {
      "text/plain": [
       "array([0.43614665, 0.94897731, 0.78630599, 0.8662893 , 0.17316542,\n",
       "       0.07494859, 0.60074272, 0.16797218, 0.73338017, 0.40844386])"
      ]
     },
     "execution_count": 83,
     "metadata": {},
     "output_type": "execute_result"
    }
   ],
   "source": [
    "# mersenne twister prng - random number generation using np.random\n",
    "uniform = np.random.rand(10) # uniform distribution [ 0 - 1]\n",
    "uniform # gaussion  or normal distribution "
   ]
  },
  {
   "cell_type": "code",
   "execution_count": 84,
   "id": "093cda03",
   "metadata": {},
   "outputs": [
    {
     "data": {
      "text/plain": [
       "array([ 0.72334161,  0.04613557, -0.98299165,  0.05443274,  0.15989294,\n",
       "       -1.20894816,  2.22336022,  0.39429521,  1.69235772, -1.11281215])"
      ]
     },
     "execution_count": 84,
     "metadata": {},
     "output_type": "execute_result"
    }
   ],
   "source": [
    "gaussian = np.random.randn(10) # normal - gaussian [-1,1] [-inf to +inf]\n",
    "gaussian"
   ]
  },
  {
   "cell_type": "code",
   "execution_count": 86,
   "id": "d289c40c",
   "metadata": {},
   "outputs": [],
   "source": [
    "s = np.random.seed(4)\n",
    "s"
   ]
  },
  {
   "cell_type": "code",
   "execution_count": 87,
   "id": "0bbaa09c",
   "metadata": {},
   "outputs": [
    {
     "data": {
      "text/plain": [
       "array([     0,      1,      2, ..., 199997, 199998, 199999])"
      ]
     },
     "execution_count": 87,
     "metadata": {},
     "output_type": "execute_result"
    }
   ],
   "source": [
    "i = np.arange(200000)\n",
    "i\n"
   ]
  },
  {
   "cell_type": "code",
   "execution_count": 88,
   "id": "b044b9fb",
   "metadata": {},
   "outputs": [
    {
     "name": "stdout",
     "output_type": "stream",
     "text": [
      "427 µs ± 5.03 µs per loop (mean ± std. dev. of 7 runs, 1,000 loops each)\n"
     ]
    }
   ],
   "source": [
    "%timeit i+1"
   ]
  },
  {
   "cell_type": "code",
   "execution_count": 90,
   "id": "e346167f",
   "metadata": {},
   "outputs": [
    {
     "data": {
      "text/plain": [
       "array([[1., 1., 1., 1., 1.],\n",
       "       [1., 1., 1., 1., 1.],\n",
       "       [1., 1., 1., 1., 1.],\n",
       "       [1., 1., 1., 1., 1.],\n",
       "       [1., 1., 1., 1., 1.]])"
      ]
     },
     "execution_count": 90,
     "metadata": {},
     "output_type": "execute_result"
    }
   ],
   "source": [
    "j = np.ones((5,5))\n",
    "j"
   ]
  },
  {
   "cell_type": "code",
   "execution_count": 91,
   "id": "1a18ef13",
   "metadata": {},
   "outputs": [
    {
     "data": {
      "text/plain": [
       "array([[1., 1., 1., 1., 1.],\n",
       "       [1., 1., 1., 1., 1.],\n",
       "       [1., 1., 1., 1., 1.],\n",
       "       [1., 1., 1., 1., 1.],\n",
       "       [1., 1., 1., 1., 1.]])"
      ]
     },
     "execution_count": 91,
     "metadata": {},
     "output_type": "execute_result"
    }
   ],
   "source": [
    "j * j # string handling - string methods - string repetition"
   ]
  },
  {
   "cell_type": "code",
   "execution_count": 92,
   "id": "df0588f4",
   "metadata": {},
   "outputs": [
    {
     "data": {
      "text/plain": [
       "array([[5., 5., 5., 5., 5.],\n",
       "       [5., 5., 5., 5., 5.],\n",
       "       [5., 5., 5., 5., 5.],\n",
       "       [5., 5., 5., 5., 5.],\n",
       "       [5., 5., 5., 5., 5.]])"
      ]
     },
     "execution_count": 92,
     "metadata": {},
     "output_type": "execute_result"
    }
   ],
   "source": [
    "j.dot(j)"
   ]
  },
  {
   "cell_type": "code",
   "execution_count": 93,
   "id": "3efcd651",
   "metadata": {},
   "outputs": [
    {
     "data": {
      "text/plain": [
       "array([[ 0,  0,  0],\n",
       "       [10, 10, 10],\n",
       "       [20, 20, 20],\n",
       "       [30, 30, 30]])"
      ]
     },
     "execution_count": 93,
     "metadata": {},
     "output_type": "execute_result"
    }
   ],
   "source": [
    "# broadcasting functions\n",
    "# tile\n",
    "k = np.tile(np.arange(0,40,10),(3,1)).T\n",
    "k"
   ]
  },
  {
   "cell_type": "code",
   "execution_count": 94,
   "id": "c938374c",
   "metadata": {},
   "outputs": [
    {
     "data": {
      "text/plain": [
       "array([[ 1,  2,  3],\n",
       "       [11, 12, 13],\n",
       "       [21, 22, 23],\n",
       "       [31, 32, 33]])"
      ]
     },
     "execution_count": 94,
     "metadata": {},
     "output_type": "execute_result"
    }
   ],
   "source": [
    "l = np.array([1,2,3])\n",
    "k + l"
   ]
  },
  {
   "cell_type": "code",
   "execution_count": 96,
   "id": "5c3b8e96",
   "metadata": {},
   "outputs": [],
   "source": [
    "m = np.arange(0,51,5)\n"
   ]
  },
  {
   "cell_type": "code",
   "execution_count": 97,
   "id": "e3c3e320",
   "metadata": {},
   "outputs": [
    {
     "name": "stdout",
     "output_type": "stream",
     "text": [
      "[ 0  5 10 15 20 25 30 35 40 45 50]\n"
     ]
    }
   ],
   "source": [
    "print(m)"
   ]
  },
  {
   "cell_type": "code",
   "execution_count": 98,
   "id": "dc466ca0",
   "metadata": {},
   "outputs": [
    {
     "data": {
      "text/plain": [
       "(11,)"
      ]
     },
     "execution_count": 98,
     "metadata": {},
     "output_type": "execute_result"
    }
   ],
   "source": [
    "m.shape"
   ]
  },
  {
   "cell_type": "code",
   "execution_count": 99,
   "id": "bda55d8c",
   "metadata": {},
   "outputs": [
    {
     "data": {
      "text/plain": [
       "array([[ 0],\n",
       "       [ 5],\n",
       "       [10],\n",
       "       [15],\n",
       "       [20],\n",
       "       [25],\n",
       "       [30],\n",
       "       [35],\n",
       "       [40],\n",
       "       [45],\n",
       "       [50]])"
      ]
     },
     "execution_count": 99,
     "metadata": {},
     "output_type": "execute_result"
    }
   ],
   "source": [
    "m = m[:,np.newaxis]\n",
    "m"
   ]
  },
  {
   "cell_type": "code",
   "execution_count": 100,
   "id": "744e5a51",
   "metadata": {},
   "outputs": [
    {
     "data": {
      "text/plain": [
       "(11, 1)"
      ]
     },
     "execution_count": 100,
     "metadata": {},
     "output_type": "execute_result"
    }
   ],
   "source": [
    "m.shape"
   ]
  },
  {
   "cell_type": "code",
   "execution_count": null,
   "id": "8698918b",
   "metadata": {},
   "outputs": [],
   "source": []
  },
  {
   "cell_type": "code",
   "execution_count": null,
   "id": "a88002a3",
   "metadata": {},
   "outputs": [],
   "source": []
  },
  {
   "cell_type": "code",
   "execution_count": null,
   "id": "74d46dbc",
   "metadata": {},
   "outputs": [],
   "source": []
  },
  {
   "cell_type": "code",
   "execution_count": null,
   "id": "56545fcd",
   "metadata": {},
   "outputs": [],
   "source": []
  },
  {
   "cell_type": "code",
   "execution_count": null,
   "id": "561d8bc6",
   "metadata": {},
   "outputs": [],
   "source": []
  },
  {
   "cell_type": "code",
   "execution_count": null,
   "id": "087582a5",
   "metadata": {},
   "outputs": [],
   "source": []
  }
 ],
 "metadata": {
  "kernelspec": {
   "display_name": "Python 3 (ipykernel)",
   "language": "python",
   "name": "python3"
  },
  "language_info": {
   "codemirror_mode": {
    "name": "ipython",
    "version": 3
   },
   "file_extension": ".py",
   "mimetype": "text/x-python",
   "name": "python",
   "nbconvert_exporter": "python",
   "pygments_lexer": "ipython3",
   "version": "3.12.0"
  }
 },
 "nbformat": 4,
 "nbformat_minor": 5
}
