{
 "cells": [
  {
   "cell_type": "code",
   "execution_count": 3,
   "id": "ad860bc3",
   "metadata": {},
   "outputs": [],
   "source": [
    "# Random forest algorithm\n",
    "\n",
    "import numpy as np\n",
    "import matplotlib.pyplot as plt\n",
    "import pandas as pd"
   ]
  },
  {
   "cell_type": "code",
   "execution_count": 5,
   "id": "cf8a7d51",
   "metadata": {},
   "outputs": [
    {
     "ename": "SyntaxError",
     "evalue": "invalid syntax (3021713508.py, line 1)",
     "output_type": "error",
     "traceback": [
      "\u001b[1;36m  Cell \u001b[1;32mIn[5], line 1\u001b[1;36m\u001b[0m\n\u001b[1;33m    dataset1=pd.read_csv(C:\\Users\\ELCOT\")\u001b[0m\n\u001b[1;37m                          ^\u001b[0m\n\u001b[1;31mSyntaxError\u001b[0m\u001b[1;31m:\u001b[0m invalid syntax\n"
     ]
    }
   ],
   "source": [
    "dataset1=pd.read_csv(C:\\Users\\ELCOT\")\n",
    "dataset1.head(10)"
   ]
  },
  {
   "cell_type": "code",
   "execution_count": null,
   "id": "1b8e04d5",
   "metadata": {},
   "outputs": [],
   "source": [
    "# feature scaling \n",
    "X=dataset1.iloc[:,[2,3]].values\n",
    "print(X.shape)\n",
    "print(X[:5])\n",
    "#dataset1"
   ]
  },
  {
   "cell_type": "code",
   "execution_count": null,
   "id": "22e2af0b",
   "metadata": {},
   "outputs": [],
   "source": [
    "dataset1[:5]"
   ]
  },
  {
   "cell_type": "code",
   "execution_count": null,
   "id": "76035b45",
   "metadata": {},
   "outputs": [],
   "source": [
    "y=dataset1.iloc[:,4].values\n",
    "print(y.shape)\n"
   ]
  },
  {
   "cell_type": "code",
   "execution_count": null,
   "id": "5477a6bb",
   "metadata": {},
   "outputs": [],
   "source": [
    "from sklearn.model_selection import train_test_split\n",
    "\n",
    "X_train,X_test,y_train,y_test=train_test_split(X,y,test_size=0.30,random_state=1)\n",
    "print('top 5 training input values - before preprocessing')\n",
    "print('--------------------------------------------------')\n",
    "print(X_train[:5])"
   ]
  },
  {
   "cell_type": "code",
   "execution_count": null,
   "id": "332d2293",
   "metadata": {},
   "outputs": [],
   "source": [
    "# fetaure engineering\n",
    "\n",
    "from sklearn.preprocessing import StandardScaler\n",
    "ss=StandardScaler()\n",
    "X_train=ss.fit_transform(X_train) # xtrain = training input samples\n",
    "X_test=ss.transform(X_test) # xtest - testing input samples\n",
    "print('top 5 training input values - after preprocessing')\n",
    "print('-------------------------------------------------')\n",
    "print(X_train[:5])"
   ]
  },
  {
   "cell_type": "code",
   "execution_count": null,
   "id": "8dc335a8",
   "metadata": {},
   "outputs": [],
   "source": [
    "from sklearn.ensemble import RandomForestClassifier\n",
    "\n",
    "clfr=RandomForestClassifier(n_estimators=10,criterion='entropy',random_state=0)\n",
    "\n",
    "clfr.fit(X_train,y_train)"
   ]
  },
  {
   "cell_type": "code",
   "execution_count": null,
   "id": "b8f551ff",
   "metadata": {},
   "outputs": [],
   "source": [
    "from sklearn.ensemble import RandomForestClassifier\n",
    "\n",
    "clfr1=RandomForestClassifier(n_estimators=10,criterion='gini',random_state=0)\n",
    "\n",
    "clfr1.fit(X_train,y_train)"
   ]
  },
  {
   "cell_type": "code",
   "execution_count": null,
   "id": "4d1658a6",
   "metadata": {},
   "outputs": [],
   "source": [
    "from sklearn.metrics import confusion_matrix,classification_report,accuracy_score\n",
    "\n",
    "ypre=clfr.predict(X_test)# entropy ypre calculation\n",
    "\n",
    "ypre1=clfr1.predict(X_test)# gini ypre calculation\n"
   ]
  },
  {
   "cell_type": "code",
   "execution_count": null,
   "id": "2ec76400",
   "metadata": {},
   "outputs": [],
   "source": [
    "print('entropy Accuracy Score:')\n",
    "accuracy_score(y_test,ypre)*100\n"
   ]
  },
  {
   "cell_type": "code",
   "execution_count": null,
   "id": "5647c271",
   "metadata": {},
   "outputs": [],
   "source": [
    "print('gini Accuracy Score:')\n",
    "accuracy_score(y_test,ypre1)*100"
   ]
  },
  {
   "cell_type": "code",
   "execution_count": null,
   "id": "b9fe14a0",
   "metadata": {},
   "outputs": [],
   "source": [
    "print('entropy - confusion matrix\\n--------------------\\n')\n",
    "print(confusion_matrix(y_test,ypre))\n",
    "print('gini - confusion matrix\\n--------------------\\n')\n",
    "print(confusion_matrix(y_test,ypre1))"
   ]
  },
  {
   "cell_type": "code",
   "execution_count": null,
   "id": "2a3f8a4e",
   "metadata": {},
   "outputs": [],
   "source": [
    "print('entropy result\\n--------------')\n",
    "print(classification_report(y_test,ypre))\n",
    "print('gini index result\\n----------------------')\n",
    "print(classification_report(y_test,ypre1))"
   ]
  },
  {
   "cell_type": "code",
   "execution_count": null,
   "id": "d19f42b0",
   "metadata": {},
   "outputs": [],
   "source": []
  },
  {
   "cell_type": "code",
   "execution_count": null,
   "id": "75562337",
   "metadata": {},
   "outputs": [],
   "source": []
  }
 ],
 "metadata": {
  "kernelspec": {
   "display_name": "Python 3 (ipykernel)",
   "language": "python",
   "name": "python3"
  },
  "language_info": {
   "codemirror_mode": {
    "name": "ipython",
    "version": 3
   },
   "file_extension": ".py",
   "mimetype": "text/x-python",
   "name": "python",
   "nbconvert_exporter": "python",
   "pygments_lexer": "ipython3",
   "version": "3.12.0"
  }
 },
 "nbformat": 4,
 "nbformat_minor": 5
}
