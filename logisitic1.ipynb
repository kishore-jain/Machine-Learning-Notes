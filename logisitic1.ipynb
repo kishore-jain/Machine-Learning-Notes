{
 "cells": [
  {
   "cell_type": "code",
   "execution_count": 1,
   "id": "ebd49a19",
   "metadata": {},
   "outputs": [
    {
     "name": "stderr",
     "output_type": "stream",
     "text": [
      "C:\\Users\\ELCOT\\AppData\\Local\\Temp\\ipykernel_7084\\853713506.py:6: DeprecationWarning: \n",
      "Pyarrow will become a required dependency of pandas in the next major release of pandas (pandas 3.0),\n",
      "(to allow more performant data types, such as the Arrow string type, and better interoperability with other libraries)\n",
      "but was not found to be installed on your system.\n",
      "If this would cause problems for you,\n",
      "please provide us feedback at https://github.com/pandas-dev/pandas/issues/54466\n",
      "        \n",
      "  import pandas as pd\n"
     ]
    }
   ],
   "source": [
    "from sklearn.linear_model import LogisticRegression\n",
    "from sklearn.datasets import make_classification\n",
    "from sklearn.preprocessing import StandardScaler\n",
    "from sklearn.model_selection import train_test_split # to avoid overfitting\n",
    "from sklearn.metrics import confusion_matrix,accuracy_score,classification_report\n",
    "import pandas as pd\n",
    "import numpy as np\n",
    "import matplotlib.pyplot as plt\n",
    "\n"
   ]
  },
  {
   "cell_type": "code",
   "execution_count": 8,
   "id": "d87f0728",
   "metadata": {},
   "outputs": [
    {
     "name": "stdout",
     "output_type": "stream",
     "text": [
      "300\n",
      "[[ 1.72462904]\n",
      " [-1.18991548]\n",
      " [ 1.62994237]\n",
      " [-1.45216474]\n",
      " [ 1.60485351]]\n",
      "[1 0 0 0 1]\n"
     ]
    }
   ],
   "source": [
    "x,y=make_classification(n_samples=300,n_features=1,n_classes=2,\n",
    "                        n_clusters_per_class=1,flip_y=0.02,\n",
    "                        n_informative=1,n_redundant=0,n_repeated=0)\n",
    "\n",
    "print(len(x))\n",
    "\n",
    "print(x[:5])\n",
    "\n",
    "print(y[:5])\n"
   ]
  },
  {
   "cell_type": "code",
   "execution_count": 26,
   "id": "d679dfac",
   "metadata": {},
   "outputs": [
    {
     "data": {
      "image/png": "[encoded data removed]",
      "text/plain": [
       "<Figure size 432x288 with 1 Axes>"
      ]
     },
     "metadata": {
      "needs_background": "light"
     },
     "output_type": "display_data"
    }
   ],
   "source": [
    "plt.scatter(x,y,c=y,cmap='cool')\n",
    "plt.show()\n",
    "\n"
   ]
  },
  {
   "cell_type": "code",
   "execution_count": 27,
   "id": "01acf6cf",
   "metadata": {},
   "outputs": [
    {
     "name": "stdout",
     "output_type": "stream",
     "text": [
      "training input sample (240, 1)\n",
      "training output label (240,)\n",
      "testing input sample (60, 1)\n",
      "testing output label (60,)\n"
     ]
    }
   ],
   "source": [
    "xtrain,xtest,ytrain,ytest = train_test_split(x,y,random_state=1,test_size=0.20)\n",
    "\n",
    "print('training input sample',xtrain.shape)\n",
    "print('training output label',ytrain.shape)\n",
    "\n",
    "print('testing input sample',xtest.shape)\n",
    "print('testing output label',ytest.shape)"
   ]
  },
  {
   "cell_type": "code",
   "execution_count": 28,
   "id": "959b42a8",
   "metadata": {},
   "outputs": [],
   "source": [
    "log_reg = LogisticRegression()\n",
    "log_reg.fit(xtrain,ytrain)\n",
    "\n",
    "ypre = log_reg.predict(xtest)\n",
    "\n"
   ]
  },
  {
   "cell_type": "code",
   "execution_count": 29,
   "id": "db8e2f26",
   "metadata": {},
   "outputs": [
    {
     "name": "stdout",
     "output_type": "stream",
     "text": [
      "confusion matrix output is\n",
      " [[32  0]\n",
      " [ 2 26]]\n"
     ]
    }
   ],
   "source": [
    "print('confusion matrix output is\\n',confusion_matrix(ytest,ypre))\n",
    "# ytest - original testing time cls label\n",
    "# ypre - machine predicted testing time cls label\n"
   ]
  },
  {
   "cell_type": "code",
   "execution_count": 30,
   "id": "9ce98e59",
   "metadata": {},
   "outputs": [
    {
     "name": "stdout",
     "output_type": "stream",
     "text": [
      "accracy score is: 0.9666666666666667\n"
     ]
    }
   ],
   "source": [
    "print('accracy score is:',accuracy_score(ytest,ypre))\n",
    "\n"
   ]
  },
  {
   "cell_type": "code",
   "execution_count": null,
   "id": "4e7beaea",
   "metadata": {},
   "outputs": [],
   "source": []
  },
  {
   "cell_type": "code",
   "execution_count": 31,
   "id": "abf6d1d7",
   "metadata": {},
   "outputs": [
    {
     "name": "stdout",
     "output_type": "stream",
     "text": [
      "              precision    recall  f1-score   support\n",
      "\n",
      "           0       0.94      1.00      0.97        32\n",
      "           1       1.00      0.93      0.96        28\n",
      "\n",
      "    accuracy                           0.97        60\n",
      "   macro avg       0.97      0.96      0.97        60\n",
      "weighted avg       0.97      0.97      0.97        60\n",
      "\n"
     ]
    }
   ],
   "source": [
    "print(classification_report(ytest,ypre))"
   ]
  },
  {
   "cell_type": "code",
   "execution_count": null,
   "id": "6a6b4963",
   "metadata": {},
   "outputs": [],
   "source": []
  }
 ],
 "metadata": {
  "kernelspec": {
   "display_name": "Python 3 (ipykernel)",
   "language": "python",
   "name": "python3"
  },
  "language_info": {
   "codemirror_mode": {
    "name": "ipython",
    "version": 3
   },
   "file_extension": ".py",
   "mimetype": "text/x-python",
   "name": "python",
   "nbconvert_exporter": "python",
   "pygments_lexer": "ipython3",
   "version": "3.12.0"
  }
 },
 "nbformat": 4,
 "nbformat_minor": 5
}
