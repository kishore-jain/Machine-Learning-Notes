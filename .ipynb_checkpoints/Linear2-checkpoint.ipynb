{
 "cells": [
  {
   "cell_type": "code",
   "execution_count": 36,
   "id": "5f08b034",
   "metadata": {},
   "outputs": [],
   "source": [
    "# machine learning - steps to predict\n",
    "#------------------------------------------------\n",
    "# 1. importation of sklearn and necessary modules\n",
    "# 2. import and read the necessary input dataset\n",
    "# 3. provide x(input value) and y(target value)\n",
    "# 4. preprocess the input value x if needed\n",
    "# 5. invoke the algorithm imported\n",
    "# 6. create model and fit the input credentials x,y to the model\n",
    "# 7. predict the output using model (ypre)\n",
    "# 8. use metrics to display the predicted output"
   ]
  },
  {
   "cell_type": "code",
   "execution_count": 81,
   "id": "b18f71d6",
   "metadata": {},
   "outputs": [],
   "source": [
    "# necessary modules importation\n",
    "from sklearn.linear_model import LinearRegression\n",
    "from sklearn.metrics import mean_squared_error  # accuracy_score, confusion_matrix, classification_report\n",
    "import pandas as pd\n",
    "import numpy as np"
   ]
  },
  {
   "cell_type": "code",
   "execution_count": 59,
   "id": "31644276",
   "metadata": {},
   "outputs": [],
   "source": [
    "# loading data set\n",
    "data=pd.read_csv('Name.csv')"
   ]
  },
  {
   "cell_type": "code",
   "execution_count": 62,
   "id": "8fde713c",
   "metadata": {},
   "outputs": [
    {
     "data": {
      "text/html": [
       "<div>\n",
       "<style scoped>\n",
       "    .dataframe tbody tr th:only-of-type {\n",
       "        vertical-align: middle;\n",
       "    }\n",
       "\n",
       "    .dataframe tbody tr th {\n",
       "        vertical-align: top;\n",
       "    }\n",
       "\n",
       "    .dataframe thead th {\n",
       "        text-align: right;\n",
       "    }\n",
       "</style>\n",
       "<table border=\"1\" class=\"dataframe\">\n",
       "  <thead>\n",
       "    <tr style=\"text-align: right;\">\n",
       "      <th></th>\n",
       "      <th>Weight</th>\n",
       "      <th>Height</th>\n",
       "    </tr>\n",
       "  </thead>\n",
       "  <tbody>\n",
       "    <tr>\n",
       "      <th>0</th>\n",
       "      <td>56</td>\n",
       "      <td>1.60</td>\n",
       "    </tr>\n",
       "    <tr>\n",
       "      <th>1</th>\n",
       "      <td>66</td>\n",
       "      <td>1.45</td>\n",
       "    </tr>\n",
       "    <tr>\n",
       "      <th>2</th>\n",
       "      <td>77</td>\n",
       "      <td>1.44</td>\n",
       "    </tr>\n",
       "    <tr>\n",
       "      <th>3</th>\n",
       "      <td>56</td>\n",
       "      <td>1.50</td>\n",
       "    </tr>\n",
       "    <tr>\n",
       "      <th>4</th>\n",
       "      <td>34</td>\n",
       "      <td>1.07</td>\n",
       "    </tr>\n",
       "    <tr>\n",
       "      <th>5</th>\n",
       "      <td>56</td>\n",
       "      <td>1.63</td>\n",
       "    </tr>\n",
       "    <tr>\n",
       "      <th>6</th>\n",
       "      <td>23</td>\n",
       "      <td>1.22</td>\n",
       "    </tr>\n",
       "    <tr>\n",
       "      <th>7</th>\n",
       "      <td>45</td>\n",
       "      <td>1.35</td>\n",
       "    </tr>\n",
       "    <tr>\n",
       "      <th>8</th>\n",
       "      <td>23</td>\n",
       "      <td>1.33</td>\n",
       "    </tr>\n",
       "    <tr>\n",
       "      <th>9</th>\n",
       "      <td>89</td>\n",
       "      <td>1.07</td>\n",
       "    </tr>\n",
       "    <tr>\n",
       "      <th>10</th>\n",
       "      <td>104</td>\n",
       "      <td>1.45</td>\n",
       "    </tr>\n",
       "    <tr>\n",
       "      <th>11</th>\n",
       "      <td>34</td>\n",
       "      <td>1.02</td>\n",
       "    </tr>\n",
       "    <tr>\n",
       "      <th>12</th>\n",
       "      <td>58</td>\n",
       "      <td>1.00</td>\n",
       "    </tr>\n",
       "    <tr>\n",
       "      <th>13</th>\n",
       "      <td>65</td>\n",
       "      <td>1.60</td>\n",
       "    </tr>\n",
       "    <tr>\n",
       "      <th>14</th>\n",
       "      <td>76</td>\n",
       "      <td>1.59</td>\n",
       "    </tr>\n",
       "    <tr>\n",
       "      <th>15</th>\n",
       "      <td>59</td>\n",
       "      <td>1.58</td>\n",
       "    </tr>\n",
       "    <tr>\n",
       "      <th>16</th>\n",
       "      <td>95</td>\n",
       "      <td>1.57</td>\n",
       "    </tr>\n",
       "    <tr>\n",
       "      <th>17</th>\n",
       "      <td>98</td>\n",
       "      <td>1.55</td>\n",
       "    </tr>\n",
       "    <tr>\n",
       "      <th>18</th>\n",
       "      <td>89</td>\n",
       "      <td>1.45</td>\n",
       "    </tr>\n",
       "    <tr>\n",
       "      <th>19</th>\n",
       "      <td>34</td>\n",
       "      <td>1.44</td>\n",
       "    </tr>\n",
       "  </tbody>\n",
       "</table>\n",
       "</div>"
      ],
      "text/plain": [
       "    Weight  Height\n",
       "0       56    1.60\n",
       "1       66    1.45\n",
       "2       77    1.44\n",
       "3       56    1.50\n",
       "4       34    1.07\n",
       "5       56    1.63\n",
       "6       23    1.22\n",
       "7       45    1.35\n",
       "8       23    1.33\n",
       "9       89    1.07\n",
       "10     104    1.45\n",
       "11      34    1.02\n",
       "12      58    1.00\n",
       "13      65    1.60\n",
       "14      76    1.59\n",
       "15      59    1.58\n",
       "16      95    1.57\n",
       "17      98    1.55\n",
       "18      89    1.45\n",
       "19      34    1.44"
      ]
     },
     "execution_count": 62,
     "metadata": {},
     "output_type": "execute_result"
    }
   ],
   "source": [
    "data"
   ]
  },
  {
   "cell_type": "code",
   "execution_count": 64,
   "id": "6e927f9b",
   "metadata": {},
   "outputs": [],
   "source": [
    "# feature scaling of x and y\n",
    "X=data.Weight.values"
   ]
  },
  {
   "cell_type": "code",
   "execution_count": 65,
   "id": "e36c089e",
   "metadata": {},
   "outputs": [
    {
     "data": {
      "text/plain": [
       "array([ 56,  66,  77,  56,  34,  56,  23,  45,  23,  89, 104,  34,  58,\n",
       "        65,  76,  59,  95,  98,  89,  34], dtype=int64)"
      ]
     },
     "execution_count": 65,
     "metadata": {},
     "output_type": "execute_result"
    }
   ],
   "source": [
    "X"
   ]
  },
  {
   "cell_type": "code",
   "execution_count": 66,
   "id": "94009f2c",
   "metadata": {},
   "outputs": [],
   "source": [
    "X=X.reshape(-1,1) # naming convention (which means made changes permanently)"
   ]
  },
  {
   "cell_type": "code",
   "execution_count": 67,
   "id": "4ed0fd19",
   "metadata": {},
   "outputs": [
    {
     "data": {
      "text/plain": [
       "array([[ 56],\n",
       "       [ 66],\n",
       "       [ 77],\n",
       "       [ 56],\n",
       "       [ 34],\n",
       "       [ 56],\n",
       "       [ 23],\n",
       "       [ 45],\n",
       "       [ 23],\n",
       "       [ 89],\n",
       "       [104],\n",
       "       [ 34],\n",
       "       [ 58],\n",
       "       [ 65],\n",
       "       [ 76],\n",
       "       [ 59],\n",
       "       [ 95],\n",
       "       [ 98],\n",
       "       [ 89],\n",
       "       [ 34]], dtype=int64)"
      ]
     },
     "execution_count": 67,
     "metadata": {},
     "output_type": "execute_result"
    }
   ],
   "source": [
    "X"
   ]
  },
  {
   "cell_type": "code",
   "execution_count": 89,
   "id": "bfed4b9b",
   "metadata": {},
   "outputs": [],
   "source": [
    "y=data.Height.values"
   ]
  },
  {
   "cell_type": "code",
   "execution_count": 69,
   "id": "4867f5e7",
   "metadata": {},
   "outputs": [
    {
     "data": {
      "text/plain": [
       "array([1.6 , 1.45, 1.44, 1.5 , 1.07, 1.63, 1.22, 1.35, 1.33, 1.07, 1.45,\n",
       "       1.02, 1.  , 1.6 , 1.59, 1.58, 1.57, 1.55, 1.45, 1.44])"
      ]
     },
     "execution_count": 69,
     "metadata": {},
     "output_type": "execute_result"
    }
   ],
   "source": [
    "y # original output - target"
   ]
  },
  {
   "cell_type": "code",
   "execution_count": 88,
   "id": "ff6d608c",
   "metadata": {},
   "outputs": [],
   "source": [
    "# model creation and invocation\n",
    "\n",
    "rgr=LinearRegression() # linear regression algorithm invocationrgr\n"
   ]
  },
  {
   "cell_type": "code",
   "execution_count": 71,
   "id": "2baffeba",
   "metadata": {},
   "outputs": [],
   "source": [
    "# data model mapping/ fitting\n",
    "\n",
    "model=rgr.fit(X,y)\n"
   ]
  },
  {
   "cell_type": "code",
   "execution_count": 90,
   "id": "2742872e",
   "metadata": {},
   "outputs": [
    {
     "name": "stdout",
     "output_type": "stream",
     "text": [
      "[1.37734331 1.40838038 1.44252116 1.37734331 1.30906176 1.37734331\n",
      " 1.27492099 1.34320254 1.27492099 1.47976564 1.52632124 1.30906176\n",
      " 1.38355073 1.40527668 1.43941745 1.38665444 1.49838788 1.507699\n",
      " 1.47976564 1.30906176]\n"
     ]
    }
   ],
   "source": [
    "# model prediction\n",
    "\n",
    "ypre=model.predict(X)# either x or x test (the time of spliting the data using the data using train and test split\n",
    "# X train (training input data ) , y train (training output data)\n",
    "print(ypre) # predicted output - target - yhat"
   ]
  },
  {
   "cell_type": "code",
   "execution_count": 73,
   "id": "3e53b1b6",
   "metadata": {},
   "outputs": [
    {
     "data": {
      "text/plain": [
       "array([1.6 , 1.45, 1.44, 1.5 , 1.07, 1.63, 1.22, 1.35, 1.33, 1.07, 1.45,\n",
       "       1.02, 1.  , 1.6 , 1.59, 1.58, 1.57, 1.55, 1.45, 1.44])"
      ]
     },
     "execution_count": 73,
     "metadata": {},
     "output_type": "execute_result"
    }
   ],
   "source": [
    "y"
   ]
  },
  {
   "cell_type": "code",
   "execution_count": 74,
   "id": "41d78c77",
   "metadata": {},
   "outputs": [
    {
     "data": {
      "text/plain": [
       "0.03603826512084459"
      ]
     },
     "execution_count": 74,
     "metadata": {},
     "output_type": "execute_result"
    }
   ],
   "source": [
    "# model evaluation using output metrics\n",
    "\n",
    "mse=mean_squared_error(y,ypre)\n",
    "mse"
   ]
  },
  {
   "cell_type": "code",
   "execution_count": 86,
   "id": "7d4b03f7",
   "metadata": {},
   "outputs": [
    {
     "name": "stdout",
     "output_type": "stream",
     "text": [
      "0.18983747027614067\n"
     ]
    }
   ],
   "source": [
    "rmse=np.sqrt(mse)\n",
    "print(rmse)\n"
   ]
  },
  {
   "cell_type": "code",
   "execution_count": 85,
   "id": "3296793e",
   "metadata": {},
   "outputs": [
    {
     "name": "stdout",
     "output_type": "stream",
     "text": [
      "0.13690621735623876\n"
     ]
    }
   ],
   "source": [
    "score=rgr.score(X,y)# training time error\n",
    "print(score)\n"
   ]
  },
  {
   "cell_type": "code",
   "execution_count": 77,
   "id": "4951cab6",
   "metadata": {},
   "outputs": [
    {
     "name": "stdout",
     "output_type": "stream",
     "text": [
      "Root Mean Square Value is:  0.18983747027614067\n"
     ]
    }
   ],
   "source": [
    "print(\"Root Mean Square Value is: \",rmse)"
   ]
  },
  {
   "cell_type": "code",
   "execution_count": 78,
   "id": "e640ffdf",
   "metadata": {},
   "outputs": [
    {
     "name": "stdout",
     "output_type": "stream",
     "text": [
      "error value is :  0.13690621735623876\n"
     ]
    }
   ],
   "source": [
    "print(\"error value is : \",score)"
   ]
  },
  {
   "cell_type": "code",
   "execution_count": 79,
   "id": "cf7c3cd8",
   "metadata": {},
   "outputs": [
    {
     "name": "stdout",
     "output_type": "stream",
     "text": [
      "training time accuracy 86.30937826437612 %\n",
      "testing time accuracy 81.01625297238593 %\n"
     ]
    }
   ],
   "source": [
    "print('training time accuracy',(100-score*100),'%')\n",
    "print('testing time accuracy',(100-rmse*100),'%')"
   ]
  },
  {
   "cell_type": "code",
   "execution_count": 80,
   "id": "d4d8e426",
   "metadata": {},
   "outputs": [],
   "source": [
    "# over fitting - low bias high variance \n"
   ]
  },
  {
   "cell_type": "code",
   "execution_count": null,
   "id": "0fe97f5e",
   "metadata": {},
   "outputs": [],
   "source": []
  },
  {
   "cell_type": "code",
   "execution_count": null,
   "id": "1aa90d44",
   "metadata": {},
   "outputs": [],
   "source": []
  },
  {
   "cell_type": "code",
   "execution_count": null,
   "id": "a9eeb484",
   "metadata": {},
   "outputs": [],
   "source": []
  }
 ],
 "metadata": {
  "kernelspec": {
   "display_name": "Python 3 (ipykernel)",
   "language": "python",
   "name": "python3"
  },
  "language_info": {
   "codemirror_mode": {
    "name": "ipython",
    "version": 3
   },
   "file_extension": ".py",
   "mimetype": "text/x-python",
   "name": "python",
   "nbconvert_exporter": "python",
   "pygments_lexer": "ipython3",
   "version": "3.12.0"
  }
 },
 "nbformat": 4,
 "nbformat_minor": 5
}
