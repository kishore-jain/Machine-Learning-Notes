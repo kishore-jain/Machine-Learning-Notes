{
 "cells": [
  {
   "cell_type": "code",
   "execution_count": 14,
   "id": "ba26de6a",
   "metadata": {},
   "outputs": [
    {
     "data": {
      "text/html": [
       "<div>\n",
       "<style scoped>\n",
       "    .dataframe tbody tr th:only-of-type {\n",
       "        vertical-align: middle;\n",
       "    }\n",
       "\n",
       "    .dataframe tbody tr th {\n",
       "        vertical-align: top;\n",
       "    }\n",
       "\n",
       "    .dataframe thead th {\n",
       "        text-align: right;\n",
       "    }\n",
       "</style>\n",
       "<table border=\"1\" class=\"dataframe\">\n",
       "  <thead>\n",
       "    <tr style=\"text-align: right;\">\n",
       "      <th></th>\n",
       "      <th>sepal_length</th>\n",
       "      <th>sepal_width</th>\n",
       "      <th>petal_length</th>\n",
       "      <th>petal_width</th>\n",
       "      <th>Species</th>\n",
       "    </tr>\n",
       "  </thead>\n",
       "  <tbody>\n",
       "    <tr>\n",
       "      <th>0</th>\n",
       "      <td>5.1</td>\n",
       "      <td>3.5</td>\n",
       "      <td>1.4</td>\n",
       "      <td>0.2</td>\n",
       "      <td>Setosa</td>\n",
       "    </tr>\n",
       "    <tr>\n",
       "      <th>1</th>\n",
       "      <td>4.9</td>\n",
       "      <td>3.0</td>\n",
       "      <td>1.4</td>\n",
       "      <td>0.2</td>\n",
       "      <td>Setosa</td>\n",
       "    </tr>\n",
       "    <tr>\n",
       "      <th>2</th>\n",
       "      <td>4.7</td>\n",
       "      <td>3.2</td>\n",
       "      <td>1.3</td>\n",
       "      <td>0.2</td>\n",
       "      <td>Setosa</td>\n",
       "    </tr>\n",
       "    <tr>\n",
       "      <th>3</th>\n",
       "      <td>4.6</td>\n",
       "      <td>3.1</td>\n",
       "      <td>1.5</td>\n",
       "      <td>0.2</td>\n",
       "      <td>Setosa</td>\n",
       "    </tr>\n",
       "    <tr>\n",
       "      <th>4</th>\n",
       "      <td>5.0</td>\n",
       "      <td>3.6</td>\n",
       "      <td>1.4</td>\n",
       "      <td>0.2</td>\n",
       "      <td>Setosa</td>\n",
       "    </tr>\n",
       "    <tr>\n",
       "      <th>...</th>\n",
       "      <td>...</td>\n",
       "      <td>...</td>\n",
       "      <td>...</td>\n",
       "      <td>...</td>\n",
       "      <td>...</td>\n",
       "    </tr>\n",
       "    <tr>\n",
       "      <th>145</th>\n",
       "      <td>6.7</td>\n",
       "      <td>3.0</td>\n",
       "      <td>5.2</td>\n",
       "      <td>2.3</td>\n",
       "      <td>Virginica</td>\n",
       "    </tr>\n",
       "    <tr>\n",
       "      <th>146</th>\n",
       "      <td>6.3</td>\n",
       "      <td>2.5</td>\n",
       "      <td>5.0</td>\n",
       "      <td>1.9</td>\n",
       "      <td>Virginica</td>\n",
       "    </tr>\n",
       "    <tr>\n",
       "      <th>147</th>\n",
       "      <td>6.5</td>\n",
       "      <td>3.0</td>\n",
       "      <td>5.2</td>\n",
       "      <td>2.0</td>\n",
       "      <td>Virginica</td>\n",
       "    </tr>\n",
       "    <tr>\n",
       "      <th>148</th>\n",
       "      <td>6.2</td>\n",
       "      <td>3.4</td>\n",
       "      <td>5.4</td>\n",
       "      <td>2.3</td>\n",
       "      <td>Virginica</td>\n",
       "    </tr>\n",
       "    <tr>\n",
       "      <th>149</th>\n",
       "      <td>5.9</td>\n",
       "      <td>3.0</td>\n",
       "      <td>5.1</td>\n",
       "      <td>1.8</td>\n",
       "      <td>Virginica</td>\n",
       "    </tr>\n",
       "  </tbody>\n",
       "</table>\n",
       "<p>150 rows × 5 columns</p>\n",
       "</div>"
      ],
      "text/plain": [
       "     sepal_length  sepal_width  petal_length  petal_width    Species\n",
       "0             5.1          3.5           1.4          0.2     Setosa\n",
       "1             4.9          3.0           1.4          0.2     Setosa\n",
       "2             4.7          3.2           1.3          0.2     Setosa\n",
       "3             4.6          3.1           1.5          0.2     Setosa\n",
       "4             5.0          3.6           1.4          0.2     Setosa\n",
       "..            ...          ...           ...          ...        ...\n",
       "145           6.7          3.0           5.2          2.3  Virginica\n",
       "146           6.3          2.5           5.0          1.9  Virginica\n",
       "147           6.5          3.0           5.2          2.0  Virginica\n",
       "148           6.2          3.4           5.4          2.3  Virginica\n",
       "149           5.9          3.0           5.1          1.8  Virginica\n",
       "\n",
       "[150 rows x 5 columns]"
      ]
     },
     "execution_count": 14,
     "metadata": {},
     "output_type": "execute_result"
    }
   ],
   "source": [
    "# naive bayes algorithm\n",
    "import numpy as np\n",
    "import pandas as pd\n",
    "import matplotlib.pyplot as plt\n",
    "\n",
    "iris=pd.read_csv(r\"C:\\Users\\SASIKUMAR\\Desktop\\ml projects\\iris.csv\")\n",
    "iris\n",
    "\n"
   ]
  },
  {
   "cell_type": "code",
   "execution_count": 15,
   "id": "94116b05",
   "metadata": {},
   "outputs": [
    {
     "data": {
      "text/plain": [
       "['sepal_length', 'sepal_width', 'petal_length', 'petal_width', 'species']"
      ]
     },
     "execution_count": 15,
     "metadata": {},
     "output_type": "execute_result"
    }
   ],
   "source": [
    "iris.columns=['sepal_length','sepal_width','petal_length','petal_width','species']\n",
    "\n",
    "col_names=list(iris.columns)\n",
    "col_names"
   ]
  },
  {
   "cell_type": "code",
   "execution_count": 16,
   "id": "8e56dd48",
   "metadata": {},
   "outputs": [
    {
     "name": "stdout",
     "output_type": "stream",
     "text": [
      "['sepal_length', 'sepal_width', 'petal_length', 'petal_width']\n",
      "species\n"
     ]
    }
   ],
   "source": [
    "# feature scaling - 1\n",
    "\n",
    "X=col_names[0:4]  # size - (150,4)\n",
    "\n",
    "y=col_names[4]    # size - (150,)\n",
    "\n",
    "print(X)\n",
    "print(y) \n",
    "\n",
    "#print(len(X))\n"
   ]
  },
  {
   "cell_type": "code",
   "execution_count": 17,
   "id": "78bf77f4",
   "metadata": {},
   "outputs": [
    {
     "name": "stdout",
     "output_type": "stream",
     "text": [
      "training input samples: 120\n",
      "testing input samples: 30\n"
     ]
    }
   ],
   "source": [
    "# feature scaling -2 \n",
    "\n",
    "from sklearn.model_selection import train_test_split # to control overfitting\n",
    "train,test=train_test_split(iris,test_size=0.20,random_state=1)\n",
    "\n",
    "print('training input samples:',len(train))\n",
    "print('testing input samples:',len(test))\n",
    "#print(test)"
   ]
  },
  {
   "cell_type": "code",
   "execution_count": 18,
   "id": "9a95a6a9",
   "metadata": {},
   "outputs": [],
   "source": [
    "############# Naive Bayes ############\n",
    "\n",
    "# Guassian Naive Bayes\n",
    "\n",
    "from sklearn.naive_bayes import GaussianNB # importation\n",
    "\n",
    "Gmodel=GaussianNB() # invocation"
   ]
  },
  {
   "cell_type": "code",
   "execution_count": 19,
   "id": "1078e6a9",
   "metadata": {},
   "outputs": [],
   "source": [
    "Gmodel.fit(train[X],train[y])\n",
    "\n",
    "train_Gpred=Gmodel.predict(train[X]) # train[x] - 120 training input samples\n",
    "\n",
    "test_Gpred=Gmodel.predict(test[X]) # test[x] - 30 testing input samples\n"
   ]
  },
  {
   "cell_type": "code",
   "execution_count": 20,
   "id": "1c1c6c5f",
   "metadata": {},
   "outputs": [
    {
     "name": "stdout",
     "output_type": "stream",
     "text": [
      "gaussian nb - training accuracy: 95.0 %\n",
      "gaussian nb - testing accuracy: 96.66666666666667 %\n"
     ]
    }
   ],
   "source": [
    "train_acc_gau = np.mean(train_Gpred==train[y])# 120 samples label(train)\n",
    "\n",
    "test_acc_gau = np.mean(test_Gpred==test[y])# 30 samples label(test)\n",
    "\n",
    "print('gaussian nb - training accuracy:',train_acc_gau*100,'%')\n",
    "print('gaussian nb - testing accuracy:',test_acc_gau*100,'%')\n"
   ]
  },
  {
   "cell_type": "code",
   "execution_count": 21,
   "id": "86d66c2f",
   "metadata": {},
   "outputs": [],
   "source": [
    "#Multinomial Naive Bayes\n",
    "\n",
    "from sklearn.naive_bayes import MultinomialNB\n",
    "Mmodel=MultinomialNB()\n",
    "Mmodel.fit(train[X],train[y])\n",
    "\n",
    "train_Mpred=Mmodel.predict(train[X])\n",
    "test_Mpred=Mmodel.predict(test[X])\n",
    "\n"
   ]
  },
  {
   "cell_type": "code",
   "execution_count": 22,
   "id": "edddf2a3",
   "metadata": {},
   "outputs": [
    {
     "name": "stdout",
     "output_type": "stream",
     "text": [
      "multinomial nb - training accuracy: 71.66666666666667 %\n",
      "multinomial nb - testing accuracy: 56.666666666666664 %\n"
     ]
    }
   ],
   "source": [
    "train_acc_multi=np.mean(train_Mpred==train[y])\n",
    "test_acc_multi=np.mean(test_Mpred==test[y])\n",
    "print('multinomial nb - training accuracy:',train_acc_multi*100,'%')\n",
    "print('multinomial nb - testing accuracy:',test_acc_multi*100,'%')\n"
   ]
  },
  {
   "cell_type": "code",
   "execution_count": null,
   "id": "7d9a8200",
   "metadata": {},
   "outputs": [],
   "source": []
  },
  {
   "cell_type": "code",
   "execution_count": null,
   "id": "fedf6452",
   "metadata": {},
   "outputs": [],
   "source": []
  },
  {
   "cell_type": "code",
   "execution_count": null,
   "id": "1ba89456",
   "metadata": {},
   "outputs": [],
   "source": []
  },
  {
   "cell_type": "code",
   "execution_count": null,
   "id": "415f6b19",
   "metadata": {},
   "outputs": [],
   "source": []
  }
 ],
 "metadata": {
  "kernelspec": {
   "display_name": "Python 3 (ipykernel)",
   "language": "python",
   "name": "python3"
  },
  "language_info": {
   "codemirror_mode": {
    "name": "ipython",
    "version": 3
   },
   "file_extension": ".py",
   "mimetype": "text/x-python",
   "name": "python",
   "nbconvert_exporter": "python",
   "pygments_lexer": "ipython3",
   "version": "3.8.6"
  }
 },
 "nbformat": 4,
 "nbformat_minor": 5
}
